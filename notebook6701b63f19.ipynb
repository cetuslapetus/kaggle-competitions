{
 "cells": [
  {
   "cell_type": "code",
   "execution_count": 1,
   "id": "17d1bcc0",
   "metadata": {
    "_cell_guid": "b1076dfc-b9ad-4769-8c92-a6c4dae69d19",
    "_uuid": "8f2839f25d086af736a60e9eeb907d3b93b6e0e5",
    "execution": {
     "iopub.execute_input": "2022-12-24T03:41:57.972697Z",
     "iopub.status.busy": "2022-12-24T03:41:57.971944Z",
     "iopub.status.idle": "2022-12-24T03:41:57.985872Z",
     "shell.execute_reply": "2022-12-24T03:41:57.984613Z"
    },
    "papermill": {
     "duration": 0.027547,
     "end_time": "2022-12-24T03:41:57.989060",
     "exception": false,
     "start_time": "2022-12-24T03:41:57.961513",
     "status": "completed"
    },
    "tags": []
   },
   "outputs": [
    {
     "name": "stdout",
     "output_type": "stream",
     "text": [
      "/kaggle/input/titanic/train.csv\n",
      "/kaggle/input/titanic/test.csv\n",
      "/kaggle/input/titanic/gender_submission.csv\n"
     ]
    }
   ],
   "source": [
    "# This Python 3 environment comes with many helpful analytics libraries installed\n",
    "# It is defined by the kaggle/python Docker image: https://github.com/kaggle/docker-python\n",
    "# For example, here's several helpful packages to load\n",
    "\n",
    "import numpy as np # linear algebra\n",
    "import pandas as pd # data processing, CSV file I/O (e.g. pd.read_csv)\n",
    "\n",
    "# Input data files are available in the read-only \"../input/\" directory\n",
    "# For example, running this (by clicking run or pressing Shift+Enter) will list all files under the input directory\n",
    "\n",
    "import os\n",
    "for dirname, _, filenames in os.walk('/kaggle/input'):\n",
    "    for filename in filenames:\n",
    "        print(os.path.join(dirname, filename))\n",
    "\n",
    "# You can write up to 20GB to the current directory (/kaggle/working/) that gets preserved as output when you create a version using \"Save & Run All\" \n",
    "# You can also write temporary files to /kaggle/temp/, but they won't be saved outside of the current session"
   ]
  },
  {
   "cell_type": "markdown",
   "id": "924c0cfd",
   "metadata": {
    "papermill": {
     "duration": 0.006793,
     "end_time": "2022-12-24T03:41:58.003691",
     "exception": false,
     "start_time": "2022-12-24T03:41:57.996898",
     "status": "completed"
    },
    "tags": []
   },
   "source": [
    "Lets load the dataset into pandas!"
   ]
  },
  {
   "cell_type": "code",
   "execution_count": 2,
   "id": "2a345d36",
   "metadata": {
    "execution": {
     "iopub.execute_input": "2022-12-24T03:41:58.021005Z",
     "iopub.status.busy": "2022-12-24T03:41:58.019987Z",
     "iopub.status.idle": "2022-12-24T03:41:58.071638Z",
     "shell.execute_reply": "2022-12-24T03:41:58.070364Z"
    },
    "papermill": {
     "duration": 0.062839,
     "end_time": "2022-12-24T03:41:58.074230",
     "exception": false,
     "start_time": "2022-12-24T03:41:58.011391",
     "status": "completed"
    },
    "tags": []
   },
   "outputs": [
    {
     "data": {
      "text/html": [
       "<div>\n",
       "<style scoped>\n",
       "    .dataframe tbody tr th:only-of-type {\n",
       "        vertical-align: middle;\n",
       "    }\n",
       "\n",
       "    .dataframe tbody tr th {\n",
       "        vertical-align: top;\n",
       "    }\n",
       "\n",
       "    .dataframe thead th {\n",
       "        text-align: right;\n",
       "    }\n",
       "</style>\n",
       "<table border=\"1\" class=\"dataframe\">\n",
       "  <thead>\n",
       "    <tr style=\"text-align: right;\">\n",
       "      <th></th>\n",
       "      <th>PassengerId</th>\n",
       "      <th>Survived</th>\n",
       "      <th>Pclass</th>\n",
       "      <th>Name</th>\n",
       "      <th>Sex</th>\n",
       "      <th>Age</th>\n",
       "      <th>SibSp</th>\n",
       "      <th>Parch</th>\n",
       "      <th>Ticket</th>\n",
       "      <th>Fare</th>\n",
       "      <th>Cabin</th>\n",
       "      <th>Embarked</th>\n",
       "    </tr>\n",
       "  </thead>\n",
       "  <tbody>\n",
       "    <tr>\n",
       "      <th>0</th>\n",
       "      <td>1</td>\n",
       "      <td>0</td>\n",
       "      <td>3</td>\n",
       "      <td>Braund, Mr. Owen Harris</td>\n",
       "      <td>male</td>\n",
       "      <td>22.0</td>\n",
       "      <td>1</td>\n",
       "      <td>0</td>\n",
       "      <td>A/5 21171</td>\n",
       "      <td>7.2500</td>\n",
       "      <td>NaN</td>\n",
       "      <td>S</td>\n",
       "    </tr>\n",
       "    <tr>\n",
       "      <th>1</th>\n",
       "      <td>2</td>\n",
       "      <td>1</td>\n",
       "      <td>1</td>\n",
       "      <td>Cumings, Mrs. John Bradley (Florence Briggs Th...</td>\n",
       "      <td>female</td>\n",
       "      <td>38.0</td>\n",
       "      <td>1</td>\n",
       "      <td>0</td>\n",
       "      <td>PC 17599</td>\n",
       "      <td>71.2833</td>\n",
       "      <td>C85</td>\n",
       "      <td>C</td>\n",
       "    </tr>\n",
       "    <tr>\n",
       "      <th>2</th>\n",
       "      <td>3</td>\n",
       "      <td>1</td>\n",
       "      <td>3</td>\n",
       "      <td>Heikkinen, Miss. Laina</td>\n",
       "      <td>female</td>\n",
       "      <td>26.0</td>\n",
       "      <td>0</td>\n",
       "      <td>0</td>\n",
       "      <td>STON/O2. 3101282</td>\n",
       "      <td>7.9250</td>\n",
       "      <td>NaN</td>\n",
       "      <td>S</td>\n",
       "    </tr>\n",
       "    <tr>\n",
       "      <th>3</th>\n",
       "      <td>4</td>\n",
       "      <td>1</td>\n",
       "      <td>1</td>\n",
       "      <td>Futrelle, Mrs. Jacques Heath (Lily May Peel)</td>\n",
       "      <td>female</td>\n",
       "      <td>35.0</td>\n",
       "      <td>1</td>\n",
       "      <td>0</td>\n",
       "      <td>113803</td>\n",
       "      <td>53.1000</td>\n",
       "      <td>C123</td>\n",
       "      <td>S</td>\n",
       "    </tr>\n",
       "    <tr>\n",
       "      <th>4</th>\n",
       "      <td>5</td>\n",
       "      <td>0</td>\n",
       "      <td>3</td>\n",
       "      <td>Allen, Mr. William Henry</td>\n",
       "      <td>male</td>\n",
       "      <td>35.0</td>\n",
       "      <td>0</td>\n",
       "      <td>0</td>\n",
       "      <td>373450</td>\n",
       "      <td>8.0500</td>\n",
       "      <td>NaN</td>\n",
       "      <td>S</td>\n",
       "    </tr>\n",
       "  </tbody>\n",
       "</table>\n",
       "</div>"
      ],
      "text/plain": [
       "   PassengerId  Survived  Pclass  \\\n",
       "0            1         0       3   \n",
       "1            2         1       1   \n",
       "2            3         1       3   \n",
       "3            4         1       1   \n",
       "4            5         0       3   \n",
       "\n",
       "                                                Name     Sex   Age  SibSp  \\\n",
       "0                            Braund, Mr. Owen Harris    male  22.0      1   \n",
       "1  Cumings, Mrs. John Bradley (Florence Briggs Th...  female  38.0      1   \n",
       "2                             Heikkinen, Miss. Laina  female  26.0      0   \n",
       "3       Futrelle, Mrs. Jacques Heath (Lily May Peel)  female  35.0      1   \n",
       "4                           Allen, Mr. William Henry    male  35.0      0   \n",
       "\n",
       "   Parch            Ticket     Fare Cabin Embarked  \n",
       "0      0         A/5 21171   7.2500   NaN        S  \n",
       "1      0          PC 17599  71.2833   C85        C  \n",
       "2      0  STON/O2. 3101282   7.9250   NaN        S  \n",
       "3      0            113803  53.1000  C123        S  \n",
       "4      0            373450   8.0500   NaN        S  "
      ]
     },
     "execution_count": 2,
     "metadata": {},
     "output_type": "execute_result"
    }
   ],
   "source": [
    "train_df = pd.read_csv(\"/kaggle/input/titanic/train.csv\")\n",
    "train_df.head()"
   ]
  },
  {
   "cell_type": "code",
   "execution_count": 3,
   "id": "9cbd4945",
   "metadata": {
    "execution": {
     "iopub.execute_input": "2022-12-24T03:41:58.091402Z",
     "iopub.status.busy": "2022-12-24T03:41:58.090961Z",
     "iopub.status.idle": "2022-12-24T03:41:58.115744Z",
     "shell.execute_reply": "2022-12-24T03:41:58.114541Z"
    },
    "papermill": {
     "duration": 0.036361,
     "end_time": "2022-12-24T03:41:58.118180",
     "exception": false,
     "start_time": "2022-12-24T03:41:58.081819",
     "status": "completed"
    },
    "tags": []
   },
   "outputs": [
    {
     "data": {
      "text/html": [
       "<div>\n",
       "<style scoped>\n",
       "    .dataframe tbody tr th:only-of-type {\n",
       "        vertical-align: middle;\n",
       "    }\n",
       "\n",
       "    .dataframe tbody tr th {\n",
       "        vertical-align: top;\n",
       "    }\n",
       "\n",
       "    .dataframe thead th {\n",
       "        text-align: right;\n",
       "    }\n",
       "</style>\n",
       "<table border=\"1\" class=\"dataframe\">\n",
       "  <thead>\n",
       "    <tr style=\"text-align: right;\">\n",
       "      <th></th>\n",
       "      <th>PassengerId</th>\n",
       "      <th>Pclass</th>\n",
       "      <th>Name</th>\n",
       "      <th>Sex</th>\n",
       "      <th>Age</th>\n",
       "      <th>SibSp</th>\n",
       "      <th>Parch</th>\n",
       "      <th>Ticket</th>\n",
       "      <th>Fare</th>\n",
       "      <th>Cabin</th>\n",
       "      <th>Embarked</th>\n",
       "    </tr>\n",
       "  </thead>\n",
       "  <tbody>\n",
       "    <tr>\n",
       "      <th>0</th>\n",
       "      <td>892</td>\n",
       "      <td>3</td>\n",
       "      <td>Kelly, Mr. James</td>\n",
       "      <td>male</td>\n",
       "      <td>34.5</td>\n",
       "      <td>0</td>\n",
       "      <td>0</td>\n",
       "      <td>330911</td>\n",
       "      <td>7.8292</td>\n",
       "      <td>NaN</td>\n",
       "      <td>Q</td>\n",
       "    </tr>\n",
       "    <tr>\n",
       "      <th>1</th>\n",
       "      <td>893</td>\n",
       "      <td>3</td>\n",
       "      <td>Wilkes, Mrs. James (Ellen Needs)</td>\n",
       "      <td>female</td>\n",
       "      <td>47.0</td>\n",
       "      <td>1</td>\n",
       "      <td>0</td>\n",
       "      <td>363272</td>\n",
       "      <td>7.0000</td>\n",
       "      <td>NaN</td>\n",
       "      <td>S</td>\n",
       "    </tr>\n",
       "    <tr>\n",
       "      <th>2</th>\n",
       "      <td>894</td>\n",
       "      <td>2</td>\n",
       "      <td>Myles, Mr. Thomas Francis</td>\n",
       "      <td>male</td>\n",
       "      <td>62.0</td>\n",
       "      <td>0</td>\n",
       "      <td>0</td>\n",
       "      <td>240276</td>\n",
       "      <td>9.6875</td>\n",
       "      <td>NaN</td>\n",
       "      <td>Q</td>\n",
       "    </tr>\n",
       "    <tr>\n",
       "      <th>3</th>\n",
       "      <td>895</td>\n",
       "      <td>3</td>\n",
       "      <td>Wirz, Mr. Albert</td>\n",
       "      <td>male</td>\n",
       "      <td>27.0</td>\n",
       "      <td>0</td>\n",
       "      <td>0</td>\n",
       "      <td>315154</td>\n",
       "      <td>8.6625</td>\n",
       "      <td>NaN</td>\n",
       "      <td>S</td>\n",
       "    </tr>\n",
       "    <tr>\n",
       "      <th>4</th>\n",
       "      <td>896</td>\n",
       "      <td>3</td>\n",
       "      <td>Hirvonen, Mrs. Alexander (Helga E Lindqvist)</td>\n",
       "      <td>female</td>\n",
       "      <td>22.0</td>\n",
       "      <td>1</td>\n",
       "      <td>1</td>\n",
       "      <td>3101298</td>\n",
       "      <td>12.2875</td>\n",
       "      <td>NaN</td>\n",
       "      <td>S</td>\n",
       "    </tr>\n",
       "  </tbody>\n",
       "</table>\n",
       "</div>"
      ],
      "text/plain": [
       "   PassengerId  Pclass                                          Name     Sex  \\\n",
       "0          892       3                              Kelly, Mr. James    male   \n",
       "1          893       3              Wilkes, Mrs. James (Ellen Needs)  female   \n",
       "2          894       2                     Myles, Mr. Thomas Francis    male   \n",
       "3          895       3                              Wirz, Mr. Albert    male   \n",
       "4          896       3  Hirvonen, Mrs. Alexander (Helga E Lindqvist)  female   \n",
       "\n",
       "    Age  SibSp  Parch   Ticket     Fare Cabin Embarked  \n",
       "0  34.5      0      0   330911   7.8292   NaN        Q  \n",
       "1  47.0      1      0   363272   7.0000   NaN        S  \n",
       "2  62.0      0      0   240276   9.6875   NaN        Q  \n",
       "3  27.0      0      0   315154   8.6625   NaN        S  \n",
       "4  22.0      1      1  3101298  12.2875   NaN        S  "
      ]
     },
     "execution_count": 3,
     "metadata": {},
     "output_type": "execute_result"
    }
   ],
   "source": [
    "test_df = pd.read_csv(\"/kaggle/input/titanic/test.csv\")\n",
    "test_df.head()"
   ]
  },
  {
   "cell_type": "markdown",
   "id": "3eb994c5",
   "metadata": {
    "papermill": {
     "duration": 0.007175,
     "end_time": "2022-12-24T03:41:58.133066",
     "exception": false,
     "start_time": "2022-12-24T03:41:58.125891",
     "status": "completed"
    },
    "tags": []
   },
   "source": [
    "# Explaination of classes:\n",
    "\n",
    "* Passenger ID: to keep traack of them\n",
    "* Pclass: passenger class, aka socio economic status\n",
    "* Name: prefaced by title (Mr. = adult male or young male, Mrs. = married woman, Ms = woman with marital status unknown, Master = young male, Miss = young woman or unmarried woman)\n",
    "* Sex: male or female\n",
    "* Age: fractional if less than 1 or if estimated\n",
    "* SibSp: count of siblings/spouse onboard\n",
    "* Parch: count of parent/child onboard\n",
    "* Ticket: number/code, seemingly assigned based on which offices they bought it from and in what order. explained in forum [here](https://www.encyclopedia-titanica.org/community/threads/ticket-numbering-system.20348/post-267061)\n",
    "* Fare: in 1970's british pounds, for the whole ticket which includes all members in group ( SibSp + Parch + 1 )\n",
    "* Cabin: which room they were assigned. Letter indicates which deck (floor) they were on. A being the upper deck, G was the lowest. A map of the cabins can be found [here](https://www.encyclopedia-titanica.org/titanic-deckplans/)\n",
    "* Embarked: S = Southampton (England), C = Cherbourg (France), Q = Queenstown (Ireland) (listed in chronological order"
   ]
  },
  {
   "cell_type": "code",
   "execution_count": 4,
   "id": "9ab457be",
   "metadata": {
    "execution": {
     "iopub.execute_input": "2022-12-24T03:41:58.151963Z",
     "iopub.status.busy": "2022-12-24T03:41:58.151441Z",
     "iopub.status.idle": "2022-12-24T03:41:58.184238Z",
     "shell.execute_reply": "2022-12-24T03:41:58.182331Z"
    },
    "papermill": {
     "duration": 0.044874,
     "end_time": "2022-12-24T03:41:58.187083",
     "exception": false,
     "start_time": "2022-12-24T03:41:58.142209",
     "status": "completed"
    },
    "tags": []
   },
   "outputs": [
    {
     "name": "stdout",
     "output_type": "stream",
     "text": [
      "<class 'pandas.core.frame.DataFrame'>\n",
      "RangeIndex: 418 entries, 0 to 417\n",
      "Data columns (total 11 columns):\n",
      " #   Column       Non-Null Count  Dtype  \n",
      "---  ------       --------------  -----  \n",
      " 0   PassengerId  418 non-null    int64  \n",
      " 1   Pclass       418 non-null    int64  \n",
      " 2   Name         418 non-null    object \n",
      " 3   Sex          418 non-null    object \n",
      " 4   Age          332 non-null    float64\n",
      " 5   SibSp        418 non-null    int64  \n",
      " 6   Parch        418 non-null    int64  \n",
      " 7   Ticket       418 non-null    object \n",
      " 8   Fare         417 non-null    float64\n",
      " 9   Cabin        91 non-null     object \n",
      " 10  Embarked     418 non-null    object \n",
      "dtypes: float64(2), int64(4), object(5)\n",
      "memory usage: 36.0+ KB\n"
     ]
    }
   ],
   "source": [
    "test_df.info()"
   ]
  },
  {
   "cell_type": "code",
   "execution_count": 5,
   "id": "1e75c782",
   "metadata": {
    "execution": {
     "iopub.execute_input": "2022-12-24T03:41:58.205138Z",
     "iopub.status.busy": "2022-12-24T03:41:58.204454Z",
     "iopub.status.idle": "2022-12-24T03:41:58.218561Z",
     "shell.execute_reply": "2022-12-24T03:41:58.217217Z"
    },
    "papermill": {
     "duration": 0.025842,
     "end_time": "2022-12-24T03:41:58.220992",
     "exception": false,
     "start_time": "2022-12-24T03:41:58.195150",
     "status": "completed"
    },
    "tags": []
   },
   "outputs": [
    {
     "name": "stdout",
     "output_type": "stream",
     "text": [
      "<class 'pandas.core.frame.DataFrame'>\n",
      "RangeIndex: 891 entries, 0 to 890\n",
      "Data columns (total 12 columns):\n",
      " #   Column       Non-Null Count  Dtype  \n",
      "---  ------       --------------  -----  \n",
      " 0   PassengerId  891 non-null    int64  \n",
      " 1   Survived     891 non-null    int64  \n",
      " 2   Pclass       891 non-null    int64  \n",
      " 3   Name         891 non-null    object \n",
      " 4   Sex          891 non-null    object \n",
      " 5   Age          714 non-null    float64\n",
      " 6   SibSp        891 non-null    int64  \n",
      " 7   Parch        891 non-null    int64  \n",
      " 8   Ticket       891 non-null    object \n",
      " 9   Fare         891 non-null    float64\n",
      " 10  Cabin        204 non-null    object \n",
      " 11  Embarked     889 non-null    object \n",
      "dtypes: float64(2), int64(5), object(5)\n",
      "memory usage: 83.7+ KB\n"
     ]
    }
   ],
   "source": [
    "train_df.info()"
   ]
  },
  {
   "cell_type": "code",
   "execution_count": 6,
   "id": "de3f73a4",
   "metadata": {
    "execution": {
     "iopub.execute_input": "2022-12-24T03:41:58.238320Z",
     "iopub.status.busy": "2022-12-24T03:41:58.237870Z",
     "iopub.status.idle": "2022-12-24T03:41:58.248948Z",
     "shell.execute_reply": "2022-12-24T03:41:58.247543Z"
    },
    "papermill": {
     "duration": 0.02238,
     "end_time": "2022-12-24T03:41:58.251238",
     "exception": false,
     "start_time": "2022-12-24T03:41:58.228858",
     "status": "completed"
    },
    "tags": []
   },
   "outputs": [
    {
     "name": "stdout",
     "output_type": "stream",
     "text": [
      "% of women who survived: 0.7420382165605095\n",
      "% of men who survived: 0.18890814558058924\n"
     ]
    }
   ],
   "source": [
    "women = train_df.loc[train_df.Sex == 'female'][\"Survived\"]\n",
    "rate_women = sum(women)/len(women)\n",
    "\n",
    "print(\"% of women who survived:\", rate_women)\n",
    "\n",
    "men = train_df.loc[train_df.Sex == 'male'][\"Survived\"]\n",
    "rate_men = sum(men)/len(men)\n",
    "\n",
    "print(\"% of men who survived:\", rate_men)"
   ]
  },
  {
   "cell_type": "code",
   "execution_count": 7,
   "id": "ec9a0344",
   "metadata": {
    "execution": {
     "iopub.execute_input": "2022-12-24T03:41:58.269292Z",
     "iopub.status.busy": "2022-12-24T03:41:58.268880Z",
     "iopub.status.idle": "2022-12-24T03:41:58.277411Z",
     "shell.execute_reply": "2022-12-24T03:41:58.276145Z"
    },
    "papermill": {
     "duration": 0.020637,
     "end_time": "2022-12-24T03:41:58.279844",
     "exception": false,
     "start_time": "2022-12-24T03:41:58.259207",
     "status": "completed"
    },
    "tags": []
   },
   "outputs": [
    {
     "data": {
      "text/plain": [
       "0"
      ]
     },
     "execution_count": 7,
     "metadata": {},
     "output_type": "execute_result"
    }
   ],
   "source": [
    "train_df['Fare'].isna().sum()"
   ]
  },
  {
   "cell_type": "code",
   "execution_count": 8,
   "id": "c05855c5",
   "metadata": {
    "execution": {
     "iopub.execute_input": "2022-12-24T03:41:58.298813Z",
     "iopub.status.busy": "2022-12-24T03:41:58.297512Z",
     "iopub.status.idle": "2022-12-24T03:41:58.303434Z",
     "shell.execute_reply": "2022-12-24T03:41:58.302541Z"
    },
    "papermill": {
     "duration": 0.01778,
     "end_time": "2022-12-24T03:41:58.305796",
     "exception": false,
     "start_time": "2022-12-24T03:41:58.288016",
     "status": "completed"
    },
    "tags": []
   },
   "outputs": [],
   "source": [
    "# Convert single column to int dtype.\n",
    "train_df['Fare'] = train_df['Fare'].astype('int')"
   ]
  },
  {
   "cell_type": "code",
   "execution_count": 9,
   "id": "b91761a8",
   "metadata": {
    "execution": {
     "iopub.execute_input": "2022-12-24T03:41:58.324019Z",
     "iopub.status.busy": "2022-12-24T03:41:58.323104Z",
     "iopub.status.idle": "2022-12-24T03:41:58.331390Z",
     "shell.execute_reply": "2022-12-24T03:41:58.330460Z"
    },
    "papermill": {
     "duration": 0.019768,
     "end_time": "2022-12-24T03:41:58.333645",
     "exception": false,
     "start_time": "2022-12-24T03:41:58.313877",
     "status": "completed"
    },
    "tags": []
   },
   "outputs": [
    {
     "data": {
      "text/plain": [
       "1"
      ]
     },
     "execution_count": 9,
     "metadata": {},
     "output_type": "execute_result"
    }
   ],
   "source": [
    "test_df['Fare'].isna().sum()"
   ]
  },
  {
   "cell_type": "markdown",
   "id": "35d1557f",
   "metadata": {
    "papermill": {
     "duration": 0.007723,
     "end_time": "2022-12-24T03:41:58.349431",
     "exception": false,
     "start_time": "2022-12-24T03:41:58.341708",
     "status": "completed"
    },
    "tags": []
   },
   "source": [
    "uh oh! theres a nan value. lets find out who it is"
   ]
  },
  {
   "cell_type": "code",
   "execution_count": 10,
   "id": "c7a841da",
   "metadata": {
    "execution": {
     "iopub.execute_input": "2022-12-24T03:41:58.369036Z",
     "iopub.status.busy": "2022-12-24T03:41:58.367048Z",
     "iopub.status.idle": "2022-12-24T03:41:58.373579Z",
     "shell.execute_reply": "2022-12-24T03:41:58.372235Z"
    },
    "papermill": {
     "duration": 0.018678,
     "end_time": "2022-12-24T03:41:58.376196",
     "exception": false,
     "start_time": "2022-12-24T03:41:58.357518",
     "status": "completed"
    },
    "tags": []
   },
   "outputs": [],
   "source": [
    "# def display_options():\n",
    "     \n",
    "#     display = pd.options.display\n",
    "#     display.max_columns = 20\n",
    "#     display.max_rows = 500\n",
    "#     display.max_colwidth = 222\n",
    "#     display.width = None\n",
    "#     return None\n",
    " \n",
    "# display_options()\n",
    "# display(test_df)"
   ]
  },
  {
   "cell_type": "markdown",
   "id": "69613cc3",
   "metadata": {
    "papermill": {
     "duration": 0.007857,
     "end_time": "2022-12-24T03:41:58.392328",
     "exception": false,
     "start_time": "2022-12-24T03:41:58.384471",
     "status": "completed"
    },
    "tags": []
   },
   "source": [
    "It was Mr. Storey. Why? what other info can we use to deduce his ticket price? We can't delete it because its in the testing dataset which we need to match the number of records on kaggle's answers in order to submit and get an accuracy score so lets figure out what to replace it with. Time to do some digging!\n",
    "\n",
    "Ticket numbers are probably most dependant on where and when they bought it. aka from which office and in what order it was sold. Fare is based on the group on the same ticket number, so for example Master Arthur Rice, 10 years old, has a third class ticket costing about 29, not because his individual ticket cost that much but because he travelled with 4 siblings and 1 mother, accounted for under SibSP and Parch respectively. Profile linked [here](https://www.encyclopedia-titanica.org/titanic-victim/albert-rice.html)\n",
    "\n",
    "So, in order to use fare as a vaild feature, we must divide by SibSp plus Parch.\n",
    "The single NaN fare value, we meet a problem because it belongs to Mr. Thomas Storey who did not travel in a group. Finding his profile though, one can see that he travelled with his shipmates [link to profile here](https://www.encyclopedia-titanica.org/titanic-victim/thomas-storey.html). If this were the entire dataset, we could average their fares and use that for Mr. Storey's, however only Carver's record is in this subset, so we copy his (Fare = 7.2500). We could find the larger dataset and average the actual numbers for everyone. I'm not sure what would make best data handling practises here. We could also have just K-nearest neighbour'd based on ticker number or maybe calculated individal fare's and KNN'd that but I think this is okay because even though they are different ages (60's vs 20's) the group were all presumably of similar socioeconomic status (same job, all third class, all forced to board titanic because a strike on their original boat). also i jsut spent a long time digging up info about this guy and am tired."
   ]
  },
  {
   "cell_type": "code",
   "execution_count": 11,
   "id": "3ce18907",
   "metadata": {
    "execution": {
     "iopub.execute_input": "2022-12-24T03:41:58.410675Z",
     "iopub.status.busy": "2022-12-24T03:41:58.409949Z",
     "iopub.status.idle": "2022-12-24T03:41:58.415115Z",
     "shell.execute_reply": "2022-12-24T03:41:58.414160Z"
    },
    "papermill": {
     "duration": 0.017021,
     "end_time": "2022-12-24T03:41:58.417489",
     "exception": false,
     "start_time": "2022-12-24T03:41:58.400468",
     "status": "completed"
    },
    "tags": []
   },
   "outputs": [],
   "source": [
    "test_df['Fare'] = test_df['Fare'].fillna(7.25)"
   ]
  },
  {
   "cell_type": "code",
   "execution_count": 12,
   "id": "1e3f98a1",
   "metadata": {
    "execution": {
     "iopub.execute_input": "2022-12-24T03:41:58.437472Z",
     "iopub.status.busy": "2022-12-24T03:41:58.436731Z",
     "iopub.status.idle": "2022-12-24T03:41:58.443695Z",
     "shell.execute_reply": "2022-12-24T03:41:58.442614Z"
    },
    "papermill": {
     "duration": 0.019686,
     "end_time": "2022-12-24T03:41:58.446109",
     "exception": false,
     "start_time": "2022-12-24T03:41:58.426423",
     "status": "completed"
    },
    "tags": []
   },
   "outputs": [
    {
     "data": {
      "text/plain": [
       "0"
      ]
     },
     "execution_count": 12,
     "metadata": {},
     "output_type": "execute_result"
    }
   ],
   "source": [
    "test_df['Fare'].isna().sum()"
   ]
  },
  {
   "cell_type": "code",
   "execution_count": 13,
   "id": "bd49db2d",
   "metadata": {
    "execution": {
     "iopub.execute_input": "2022-12-24T03:41:58.464641Z",
     "iopub.status.busy": "2022-12-24T03:41:58.464180Z",
     "iopub.status.idle": "2022-12-24T03:41:58.468948Z",
     "shell.execute_reply": "2022-12-24T03:41:58.467942Z"
    },
    "papermill": {
     "duration": 0.016544,
     "end_time": "2022-12-24T03:41:58.471236",
     "exception": false,
     "start_time": "2022-12-24T03:41:58.454692",
     "status": "completed"
    },
    "tags": []
   },
   "outputs": [],
   "source": [
    "# test_df.sort_values(by = 'Ticket')"
   ]
  },
  {
   "cell_type": "code",
   "execution_count": 14,
   "id": "b7f4ffe9",
   "metadata": {
    "execution": {
     "iopub.execute_input": "2022-12-24T03:41:58.491034Z",
     "iopub.status.busy": "2022-12-24T03:41:58.489962Z",
     "iopub.status.idle": "2022-12-24T03:41:58.495927Z",
     "shell.execute_reply": "2022-12-24T03:41:58.494906Z"
    },
    "papermill": {
     "duration": 0.018876,
     "end_time": "2022-12-24T03:41:58.498557",
     "exception": false,
     "start_time": "2022-12-24T03:41:58.479681",
     "status": "completed"
    },
    "tags": []
   },
   "outputs": [],
   "source": [
    "# Convert single column to int dtype.\n",
    "test_df['Fare'] = test_df['Fare'].astype('int')"
   ]
  },
  {
   "cell_type": "code",
   "execution_count": 15,
   "id": "b97eaa5f",
   "metadata": {
    "execution": {
     "iopub.execute_input": "2022-12-24T03:41:58.517962Z",
     "iopub.status.busy": "2022-12-24T03:41:58.517092Z",
     "iopub.status.idle": "2022-12-24T03:41:58.524329Z",
     "shell.execute_reply": "2022-12-24T03:41:58.523307Z"
    },
    "papermill": {
     "duration": 0.019834,
     "end_time": "2022-12-24T03:41:58.526693",
     "exception": false,
     "start_time": "2022-12-24T03:41:58.506859",
     "status": "completed"
    },
    "tags": []
   },
   "outputs": [
    {
     "data": {
      "text/plain": [
       "numpy.int64"
      ]
     },
     "execution_count": 15,
     "metadata": {},
     "output_type": "execute_result"
    }
   ],
   "source": [
    "type(train_df['Fare'][0])"
   ]
  },
  {
   "cell_type": "markdown",
   "id": "0f62067d",
   "metadata": {
    "papermill": {
     "duration": 0.008016,
     "end_time": "2022-12-24T03:41:58.543735",
     "exception": false,
     "start_time": "2022-12-24T03:41:58.535719",
     "status": "completed"
    },
    "tags": []
   },
   "source": [
    "Now we needd to create a new column Number of People on Ticket, or NPeople by adding sibsp, parch and 1. then divide fare / NPeople, and put that into a new column InFare (individual Fare). This is the fare we will use in our algo."
   ]
  },
  {
   "cell_type": "code",
   "execution_count": 16,
   "id": "b2d8ccab",
   "metadata": {
    "execution": {
     "iopub.execute_input": "2022-12-24T03:41:58.562766Z",
     "iopub.status.busy": "2022-12-24T03:41:58.561894Z",
     "iopub.status.idle": "2022-12-24T03:41:58.568315Z",
     "shell.execute_reply": "2022-12-24T03:41:58.567437Z"
    },
    "papermill": {
     "duration": 0.018755,
     "end_time": "2022-12-24T03:41:58.570732",
     "exception": false,
     "start_time": "2022-12-24T03:41:58.551977",
     "status": "completed"
    },
    "tags": []
   },
   "outputs": [],
   "source": [
    "train_df['InFare'] = train_df['Fare'] / ( train_df['SibSp'] + train_df['Parch'] + 1.0 )"
   ]
  },
  {
   "cell_type": "code",
   "execution_count": null,
   "id": "0b0252fd",
   "metadata": {
    "execution": {
     "iopub.execute_input": "2022-12-24T03:27:54.651692Z",
     "iopub.status.busy": "2022-12-24T03:27:54.651352Z",
     "iopub.status.idle": "2022-12-24T03:27:54.668087Z",
     "shell.execute_reply": "2022-12-24T03:27:54.666308Z",
     "shell.execute_reply.started": "2022-12-24T03:27:54.651665Z"
    },
    "papermill": {
     "duration": 0.00833,
     "end_time": "2022-12-24T03:41:58.587491",
     "exception": false,
     "start_time": "2022-12-24T03:41:58.579161",
     "status": "completed"
    },
    "tags": []
   },
   "outputs": [],
   "source": []
  },
  {
   "cell_type": "code",
   "execution_count": 17,
   "id": "a2b1d8ff",
   "metadata": {
    "execution": {
     "iopub.execute_input": "2022-12-24T03:41:58.606362Z",
     "iopub.status.busy": "2022-12-24T03:41:58.605645Z",
     "iopub.status.idle": "2022-12-24T03:41:58.624069Z",
     "shell.execute_reply": "2022-12-24T03:41:58.622810Z"
    },
    "papermill": {
     "duration": 0.03071,
     "end_time": "2022-12-24T03:41:58.626681",
     "exception": false,
     "start_time": "2022-12-24T03:41:58.595971",
     "status": "completed"
    },
    "tags": []
   },
   "outputs": [
    {
     "data": {
      "text/html": [
       "<div>\n",
       "<style scoped>\n",
       "    .dataframe tbody tr th:only-of-type {\n",
       "        vertical-align: middle;\n",
       "    }\n",
       "\n",
       "    .dataframe tbody tr th {\n",
       "        vertical-align: top;\n",
       "    }\n",
       "\n",
       "    .dataframe thead th {\n",
       "        text-align: right;\n",
       "    }\n",
       "</style>\n",
       "<table border=\"1\" class=\"dataframe\">\n",
       "  <thead>\n",
       "    <tr style=\"text-align: right;\">\n",
       "      <th></th>\n",
       "      <th>PassengerId</th>\n",
       "      <th>Pclass</th>\n",
       "      <th>Name</th>\n",
       "      <th>Sex</th>\n",
       "      <th>Age</th>\n",
       "      <th>SibSp</th>\n",
       "      <th>Parch</th>\n",
       "      <th>Ticket</th>\n",
       "      <th>Fare</th>\n",
       "      <th>Cabin</th>\n",
       "      <th>Embarked</th>\n",
       "      <th>InFare</th>\n",
       "    </tr>\n",
       "  </thead>\n",
       "  <tbody>\n",
       "    <tr>\n",
       "      <th>0</th>\n",
       "      <td>892</td>\n",
       "      <td>3</td>\n",
       "      <td>Kelly, Mr. James</td>\n",
       "      <td>male</td>\n",
       "      <td>34.5</td>\n",
       "      <td>0</td>\n",
       "      <td>0</td>\n",
       "      <td>330911</td>\n",
       "      <td>7</td>\n",
       "      <td>NaN</td>\n",
       "      <td>Q</td>\n",
       "      <td>7.0</td>\n",
       "    </tr>\n",
       "    <tr>\n",
       "      <th>1</th>\n",
       "      <td>893</td>\n",
       "      <td>3</td>\n",
       "      <td>Wilkes, Mrs. James (Ellen Needs)</td>\n",
       "      <td>female</td>\n",
       "      <td>47.0</td>\n",
       "      <td>1</td>\n",
       "      <td>0</td>\n",
       "      <td>363272</td>\n",
       "      <td>7</td>\n",
       "      <td>NaN</td>\n",
       "      <td>S</td>\n",
       "      <td>3.5</td>\n",
       "    </tr>\n",
       "    <tr>\n",
       "      <th>2</th>\n",
       "      <td>894</td>\n",
       "      <td>2</td>\n",
       "      <td>Myles, Mr. Thomas Francis</td>\n",
       "      <td>male</td>\n",
       "      <td>62.0</td>\n",
       "      <td>0</td>\n",
       "      <td>0</td>\n",
       "      <td>240276</td>\n",
       "      <td>9</td>\n",
       "      <td>NaN</td>\n",
       "      <td>Q</td>\n",
       "      <td>9.0</td>\n",
       "    </tr>\n",
       "    <tr>\n",
       "      <th>3</th>\n",
       "      <td>895</td>\n",
       "      <td>3</td>\n",
       "      <td>Wirz, Mr. Albert</td>\n",
       "      <td>male</td>\n",
       "      <td>27.0</td>\n",
       "      <td>0</td>\n",
       "      <td>0</td>\n",
       "      <td>315154</td>\n",
       "      <td>8</td>\n",
       "      <td>NaN</td>\n",
       "      <td>S</td>\n",
       "      <td>8.0</td>\n",
       "    </tr>\n",
       "    <tr>\n",
       "      <th>4</th>\n",
       "      <td>896</td>\n",
       "      <td>3</td>\n",
       "      <td>Hirvonen, Mrs. Alexander (Helga E Lindqvist)</td>\n",
       "      <td>female</td>\n",
       "      <td>22.0</td>\n",
       "      <td>1</td>\n",
       "      <td>1</td>\n",
       "      <td>3101298</td>\n",
       "      <td>12</td>\n",
       "      <td>NaN</td>\n",
       "      <td>S</td>\n",
       "      <td>4.0</td>\n",
       "    </tr>\n",
       "  </tbody>\n",
       "</table>\n",
       "</div>"
      ],
      "text/plain": [
       "   PassengerId  Pclass                                          Name     Sex  \\\n",
       "0          892       3                              Kelly, Mr. James    male   \n",
       "1          893       3              Wilkes, Mrs. James (Ellen Needs)  female   \n",
       "2          894       2                     Myles, Mr. Thomas Francis    male   \n",
       "3          895       3                              Wirz, Mr. Albert    male   \n",
       "4          896       3  Hirvonen, Mrs. Alexander (Helga E Lindqvist)  female   \n",
       "\n",
       "    Age  SibSp  Parch   Ticket  Fare Cabin Embarked  InFare  \n",
       "0  34.5      0      0   330911     7   NaN        Q     7.0  \n",
       "1  47.0      1      0   363272     7   NaN        S     3.5  \n",
       "2  62.0      0      0   240276     9   NaN        Q     9.0  \n",
       "3  27.0      0      0   315154     8   NaN        S     8.0  \n",
       "4  22.0      1      1  3101298    12   NaN        S     4.0  "
      ]
     },
     "execution_count": 17,
     "metadata": {},
     "output_type": "execute_result"
    }
   ],
   "source": [
    "test_df['InFare'] = test_df['Fare'] / ( test_df['SibSp'] + test_df['Parch'] + 1.0 )\n",
    "test_df.head()"
   ]
  },
  {
   "cell_type": "code",
   "execution_count": 18,
   "id": "5cbc25cb",
   "metadata": {
    "execution": {
     "iopub.execute_input": "2022-12-24T03:41:58.646382Z",
     "iopub.status.busy": "2022-12-24T03:41:58.645574Z",
     "iopub.status.idle": "2022-12-24T03:42:00.094464Z",
     "shell.execute_reply": "2022-12-24T03:42:00.093077Z"
    },
    "papermill": {
     "duration": 1.461786,
     "end_time": "2022-12-24T03:42:00.097220",
     "exception": false,
     "start_time": "2022-12-24T03:41:58.635434",
     "status": "completed"
    },
    "tags": []
   },
   "outputs": [],
   "source": [
    "from sklearn.ensemble import RandomForestClassifier\n",
    "from sklearn.model_selection import GridSearchCV\n",
    "from sklearn.metrics import accuracy_score\n",
    "from sklearn.model_selection import cross_val_score"
   ]
  },
  {
   "cell_type": "code",
   "execution_count": 19,
   "id": "413c4c7a",
   "metadata": {
    "execution": {
     "iopub.execute_input": "2022-12-24T03:42:00.117615Z",
     "iopub.status.busy": "2022-12-24T03:42:00.117195Z",
     "iopub.status.idle": "2022-12-24T03:42:00.347697Z",
     "shell.execute_reply": "2022-12-24T03:42:00.346255Z"
    },
    "papermill": {
     "duration": 0.243401,
     "end_time": "2022-12-24T03:42:00.350400",
     "exception": false,
     "start_time": "2022-12-24T03:42:00.106999",
     "status": "completed"
    },
    "tags": []
   },
   "outputs": [
    {
     "data": {
      "text/html": [
       "<div>\n",
       "<style scoped>\n",
       "    .dataframe tbody tr th:only-of-type {\n",
       "        vertical-align: middle;\n",
       "    }\n",
       "\n",
       "    .dataframe tbody tr th {\n",
       "        vertical-align: top;\n",
       "    }\n",
       "\n",
       "    .dataframe thead th {\n",
       "        text-align: right;\n",
       "    }\n",
       "</style>\n",
       "<table border=\"1\" class=\"dataframe\">\n",
       "  <thead>\n",
       "    <tr style=\"text-align: right;\">\n",
       "      <th></th>\n",
       "      <th>PassengerId</th>\n",
       "      <th>Survived</th>\n",
       "    </tr>\n",
       "  </thead>\n",
       "  <tbody>\n",
       "    <tr>\n",
       "      <th>0</th>\n",
       "      <td>892</td>\n",
       "      <td>0</td>\n",
       "    </tr>\n",
       "    <tr>\n",
       "      <th>1</th>\n",
       "      <td>893</td>\n",
       "      <td>0</td>\n",
       "    </tr>\n",
       "    <tr>\n",
       "      <th>2</th>\n",
       "      <td>894</td>\n",
       "      <td>0</td>\n",
       "    </tr>\n",
       "    <tr>\n",
       "      <th>3</th>\n",
       "      <td>895</td>\n",
       "      <td>0</td>\n",
       "    </tr>\n",
       "    <tr>\n",
       "      <th>4</th>\n",
       "      <td>896</td>\n",
       "      <td>1</td>\n",
       "    </tr>\n",
       "  </tbody>\n",
       "</table>\n",
       "</div>"
      ],
      "text/plain": [
       "   PassengerId  Survived\n",
       "0          892         0\n",
       "1          893         0\n",
       "2          894         0\n",
       "3          895         0\n",
       "4          896         1"
      ]
     },
     "execution_count": 19,
     "metadata": {},
     "output_type": "execute_result"
    }
   ],
   "source": [
    "y = train_df[\"Survived\"]\n",
    "\n",
    "features = [\"Pclass\", \"InFare\", \"Sex\", \"SibSp\", \"Parch\"]\n",
    "X = pd.get_dummies(train_df[features])\n",
    "X_test = pd.get_dummies(test_df[features])\n",
    "\n",
    "model = RandomForestClassifier(random_state = 1)\n",
    "\n",
    "model.fit(X, y)\n",
    "predictions = model.predict(X_test)\n",
    "\n",
    "output = pd.DataFrame({'PassengerId': test_df.PassengerId, 'Survived': predictions})\n",
    "\n",
    "output.head()\n"
   ]
  },
  {
   "cell_type": "code",
   "execution_count": 20,
   "id": "513e0210",
   "metadata": {
    "execution": {
     "iopub.execute_input": "2022-12-24T03:42:00.370100Z",
     "iopub.status.busy": "2022-12-24T03:42:00.369711Z",
     "iopub.status.idle": "2022-12-24T03:45:35.713515Z",
     "shell.execute_reply": "2022-12-24T03:45:35.712237Z"
    },
    "papermill": {
     "duration": 215.365556,
     "end_time": "2022-12-24T03:45:35.725009",
     "exception": false,
     "start_time": "2022-12-24T03:42:00.359453",
     "status": "completed"
    },
    "tags": []
   },
   "outputs": [
    {
     "data": {
      "text/plain": [
       "{'criterion': 'gini',\n",
       " 'max_depth': 8,\n",
       " 'max_features': 'auto',\n",
       " 'n_estimators': 100}"
      ]
     },
     "execution_count": 20,
     "metadata": {},
     "output_type": "execute_result"
    }
   ],
   "source": [
    "param_grid = { \n",
    "    'n_estimators': [100, 200, 500],\n",
    "    'max_features': ['auto', 'sqrt', 'log2'],\n",
    "    'max_depth' : [4,5,6,7,8],\n",
    "    'criterion' :['gini', 'entropy']\n",
    "}\n",
    "\n",
    "cv_model = GridSearchCV(estimator = model, param_grid = param_grid, cv = 5)\n",
    "cv_model.fit(X, y)\n",
    "\n",
    "cv_model.best_params_"
   ]
  },
  {
   "cell_type": "code",
   "execution_count": 21,
   "id": "d4f30098",
   "metadata": {
    "execution": {
     "iopub.execute_input": "2022-12-24T03:45:35.744232Z",
     "iopub.status.busy": "2022-12-24T03:45:35.743825Z",
     "iopub.status.idle": "2022-12-24T03:45:35.954747Z",
     "shell.execute_reply": "2022-12-24T03:45:35.953513Z"
    },
    "papermill": {
     "duration": 0.223544,
     "end_time": "2022-12-24T03:45:35.957168",
     "exception": false,
     "start_time": "2022-12-24T03:45:35.733624",
     "status": "completed"
    },
    "tags": []
   },
   "outputs": [
    {
     "data": {
      "text/html": [
       "<div>\n",
       "<style scoped>\n",
       "    .dataframe tbody tr th:only-of-type {\n",
       "        vertical-align: middle;\n",
       "    }\n",
       "\n",
       "    .dataframe tbody tr th {\n",
       "        vertical-align: top;\n",
       "    }\n",
       "\n",
       "    .dataframe thead th {\n",
       "        text-align: right;\n",
       "    }\n",
       "</style>\n",
       "<table border=\"1\" class=\"dataframe\">\n",
       "  <thead>\n",
       "    <tr style=\"text-align: right;\">\n",
       "      <th></th>\n",
       "      <th>PassengerId</th>\n",
       "      <th>Survived</th>\n",
       "    </tr>\n",
       "  </thead>\n",
       "  <tbody>\n",
       "    <tr>\n",
       "      <th>0</th>\n",
       "      <td>892</td>\n",
       "      <td>0</td>\n",
       "    </tr>\n",
       "    <tr>\n",
       "      <th>1</th>\n",
       "      <td>893</td>\n",
       "      <td>0</td>\n",
       "    </tr>\n",
       "    <tr>\n",
       "      <th>2</th>\n",
       "      <td>894</td>\n",
       "      <td>0</td>\n",
       "    </tr>\n",
       "    <tr>\n",
       "      <th>3</th>\n",
       "      <td>895</td>\n",
       "      <td>0</td>\n",
       "    </tr>\n",
       "    <tr>\n",
       "      <th>4</th>\n",
       "      <td>896</td>\n",
       "      <td>0</td>\n",
       "    </tr>\n",
       "  </tbody>\n",
       "</table>\n",
       "</div>"
      ],
      "text/plain": [
       "   PassengerId  Survived\n",
       "0          892         0\n",
       "1          893         0\n",
       "2          894         0\n",
       "3          895         0\n",
       "4          896         0"
      ]
     },
     "execution_count": 21,
     "metadata": {},
     "output_type": "execute_result"
    }
   ],
   "source": [
    "best_model = RandomForestClassifier(\n",
    "    criterion = 'gini',\n",
    "    max_depth = 8,\n",
    "    max_features = 'auto',\n",
    "    n_estimators = 100,\n",
    "    random_state = 1)\n",
    "\n",
    "best_model.fit(X, y)\n",
    "\n",
    "predictions = best_model.predict(X_test)\n",
    "\n",
    "output = pd.DataFrame({'PassengerId': test_df.PassengerId, 'Survived': predictions})\n",
    "\n",
    "output.head()"
   ]
  },
  {
   "cell_type": "code",
   "execution_count": 22,
   "id": "a40ef114",
   "metadata": {
    "execution": {
     "iopub.execute_input": "2022-12-24T03:45:35.976646Z",
     "iopub.status.busy": "2022-12-24T03:45:35.976141Z",
     "iopub.status.idle": "2022-12-24T03:45:35.986345Z",
     "shell.execute_reply": "2022-12-24T03:45:35.984974Z"
    },
    "papermill": {
     "duration": 0.024103,
     "end_time": "2022-12-24T03:45:35.990172",
     "exception": false,
     "start_time": "2022-12-24T03:45:35.966069",
     "status": "completed"
    },
    "tags": []
   },
   "outputs": [
    {
     "name": "stdout",
     "output_type": "stream",
     "text": [
      "Your submission was successfully saved!\n"
     ]
    }
   ],
   "source": [
    "output.to_csv('submission.csv', index=False)\n",
    "print(\"Your submission was successfully saved!\")"
   ]
  },
  {
   "cell_type": "code",
   "execution_count": 23,
   "id": "c1b4c386",
   "metadata": {
    "execution": {
     "iopub.execute_input": "2022-12-24T03:45:36.012297Z",
     "iopub.status.busy": "2022-12-24T03:45:36.011802Z",
     "iopub.status.idle": "2022-12-24T03:45:36.021426Z",
     "shell.execute_reply": "2022-12-24T03:45:36.019960Z"
    },
    "papermill": {
     "duration": 0.02422,
     "end_time": "2022-12-24T03:45:36.024458",
     "exception": false,
     "start_time": "2022-12-24T03:45:36.000238",
     "status": "completed"
    },
    "tags": []
   },
   "outputs": [
    {
     "name": "stdout",
     "output_type": "stream",
     "text": [
      "GridSearchCV(cv=5, estimator=RandomForestClassifier(random_state=1),\n",
      "             param_grid={'criterion': ['gini', 'entropy'],\n",
      "                         'max_depth': [4, 5, 6, 7, 8],\n",
      "                         'max_features': ['auto', 'sqrt', 'log2'],\n",
      "                         'n_estimators': [100, 200, 500]})\n"
     ]
    }
   ],
   "source": [
    "print(GridSearchCV(estimator = model, param_grid = param_grid, cv = 5))"
   ]
  },
  {
   "cell_type": "code",
   "execution_count": null,
   "id": "5dfaeb5a",
   "metadata": {
    "papermill": {
     "duration": 0.008999,
     "end_time": "2022-12-24T03:45:36.043656",
     "exception": false,
     "start_time": "2022-12-24T03:45:36.034657",
     "status": "completed"
    },
    "tags": []
   },
   "outputs": [],
   "source": []
  }
 ],
 "metadata": {
  "kernelspec": {
   "display_name": "Python 3",
   "language": "python",
   "name": "python3"
  },
  "language_info": {
   "codemirror_mode": {
    "name": "ipython",
    "version": 3
   },
   "file_extension": ".py",
   "mimetype": "text/x-python",
   "name": "python",
   "nbconvert_exporter": "python",
   "pygments_lexer": "ipython3",
   "version": "3.7.12"
  },
  "papermill": {
   "default_parameters": {},
   "duration": 228.633224,
   "end_time": "2022-12-24T03:45:36.877028",
   "environment_variables": {},
   "exception": null,
   "input_path": "__notebook__.ipynb",
   "output_path": "__notebook__.ipynb",
   "parameters": {},
   "start_time": "2022-12-24T03:41:48.243804",
   "version": "2.3.4"
  }
 },
 "nbformat": 4,
 "nbformat_minor": 5
}
